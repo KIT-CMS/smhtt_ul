{
 "cells": [
  {
   "cell_type": "code",
   "execution_count": 1,
   "metadata": {},
   "outputs": [],
   "source": [
    "import uproot\n",
    "import glob\n",
    "import os\n",
    "import fnmatch"
   ]
  },
  {
   "cell_type": "code",
   "execution_count": 2,
   "metadata": {},
   "outputs": [],
   "source": [
    "def get_quantities_from_sample(basepath, samples, channel, sample):\n",
    "    if sample not in samples:\n",
    "        # try to find a matching sample with fnmatch\n",
    "        matching = fnmatch.filter(samples, sample)\n",
    "        if len(matching) == 0:\n",
    "            raise ValueError(\"Sample {} not found in sample list\".format(sample))\n",
    "        else:\n",
    "            print(\"Sample {} not found in sample list, but found {} matching samples: {}, will use the first one\".format(sample, len(matching), matching))\n",
    "            sample = matching[0]\n",
    "    # now glob for the files\n",
    "    print(f\"globing for {sample} using {os.path.join(basepath,sample,channel,'*')}\")\n",
    "    files = glob.glob(os.path.join(basepath,sample,channel,\"*\"))\n",
    "    # now open the first file and get the quantities tree\n",
    "    uproot_file = uproot.open(files[0])\n",
    "    quantities_tree = uproot_file[\"quantities\"]\n",
    "    # now get the quantities\n",
    "    quantities = [x.name for x in quantities_tree.branches]\n",
    "    # now return the quantities\n",
    "    return quantities\n",
    "\n",
    "def get_shifts_from_sample(basepath, samples, channel, sample):\n",
    "    if sample not in samples:\n",
    "        # try to find a matching sample with fnmatch\n",
    "        matching = fnmatch.filter(samples, sample)\n",
    "        if len(matching) == 0:\n",
    "            raise ValueError(\"Sample {} not found in sample list\".format(sample))\n",
    "        else:\n",
    "            print(\"Sample {} not found in sample list, but found {} matching samples: {}, will use the first one\".format(sample, len(matching), matching))\n",
    "            sample = matching[0]\n",
    "    # now glob for the files\n",
    "    print(f\"globing for {sample} using {os.path.join(basepath,sample,channel,'*')}\")\n",
    "    files = glob.glob(os.path.join(basepath,sample,channel,\"*\"))\n",
    "    # now open the first file and get the shifts tree\n",
    "    uproot_file = uproot.open(files[0])\n",
    "    shifts_tree = uproot_file[\"variations\"]\n",
    "    # now get the shifts\n",
    "    shifts = [x.name for x in shifts_tree.branches]\n",
    "    # now return the shifts\n",
    "    return shifts"
   ]
  },
  {
   "cell_type": "code",
   "execution_count": 6,
   "metadata": {},
   "outputs": [
    {
     "name": "stdout",
     "output_type": "stream",
     "text": [
      "found 75 samples in /ceph/sbrommer/smhtt_ul/2022_09_v1/ntuples/2018/\n",
      "Sample *ZHToTauTau* not found in sample list, but found 1 matching samples: ['ZHToTauTau_M125_CP5_13TeV-powheg-pythia8_RunIISummer20UL18NanoAODv9-106X'], will use the first one\n",
      "globing for ZHToTauTau_M125_CP5_13TeV-powheg-pythia8_RunIISummer20UL18NanoAODv9-106X using /ceph/sbrommer/smhtt_ul/2022_09_v1/ntuples/2018/ZHToTauTau_M125_CP5_13TeV-powheg-pythia8_RunIISummer20UL18NanoAODv9-106X/mt/*\n",
      "['HTXS_Higgs_pt', 'HTXS_Higgs_y', 'HTXS_njets30', 'HTXS_stage1_2_cat_pTjet30GeV', 'HTXS_stage1_2_fine_cat_pTjet30GeV', 'HTXS_stage_0', 'THU_ggH_Mig01', 'THU_ggH_Mig12', 'THU_ggH_Mu', 'THU_ggH_PT120', 'THU_ggH_PT60', 'THU_ggH_Res', 'THU_ggH_VBF2j', 'THU_ggH_VBF3j', 'THU_ggH_qmtop', 'THU_qqH_25', 'THU_qqH_JET01', 'THU_qqH_Mjj1000', 'THU_qqH_Mjj120', 'THU_qqH_Mjj1500', 'THU_qqH_Mjj350', 'THU_qqH_Mjj60', 'THU_qqH_Mjj700', 'THU_qqH_PTH200', 'THU_qqH_TOT', 'beta_1', 'beta_2', 'bphi_1', 'bphi_2', 'bpt_1', 'bpt_2', 'btag_value_1', 'btag_value_2', 'btag_weight', 'decaymode_2', 'deltaR_ditaupair', 'dimuon_veto', 'dxy_1', 'dxy_2', 'dz_1', 'dz_2', 'eta_1', 'eta_2', 'event', 'extraelec_veto', 'extramuon_veto', 'genWeight', 'gen_eta_1', 'gen_eta_2', 'gen_m_vis', 'gen_mass_1', 'gen_mass_2', 'gen_match_1', 'gen_match_2', 'gen_pdgid_1', 'gen_pdgid_2', 'gen_phi_1', 'gen_phi_2', 'gen_pt_1', 'gen_pt_2', 'genbosonmass', 'ggh_NNLO_weight', 'id_tau_vsEle_Loose_2', 'id_tau_vsEle_Medium_2', 'id_tau_vsEle_Tight_2', 'id_tau_vsEle_VLoose_2', 'id_tau_vsEle_VTight_2', 'id_tau_vsEle_VVLoose_2', 'id_tau_vsEle_VVTight_2', 'id_tau_vsJet_Loose_2', 'id_tau_vsJet_Medium_2', 'id_tau_vsJet_Tight_2', 'id_tau_vsJet_VLoose_2', 'id_tau_vsJet_VTight_2', 'id_tau_vsJet_VVLoose_2', 'id_tau_vsJet_VVTight_2', 'id_tau_vsJet_VVVLoose_2', 'id_tau_vsMu_Loose_2', 'id_tau_vsMu_Medium_2', 'id_tau_vsMu_Tight_2', 'id_tau_vsMu_VLoose_2', 'id_wgt_mu_1', 'id_wgt_tau_vsEle_Loose_2', 'id_wgt_tau_vsEle_Medium_2', 'id_wgt_tau_vsEle_Tight_2', 'id_wgt_tau_vsEle_VLoose_2', 'id_wgt_tau_vsEle_VTight_2', 'id_wgt_tau_vsEle_VVLoose_2', 'id_wgt_tau_vsEle_VVTight_2', 'id_wgt_tau_vsJet_Loose_2', 'id_wgt_tau_vsJet_Medium_2', 'id_wgt_tau_vsJet_Tight_2', 'id_wgt_tau_vsJet_VLoose_2', 'id_wgt_tau_vsJet_VTight_2', 'id_wgt_tau_vsJet_VVLoose_2', 'id_wgt_tau_vsJet_VVTight_2', 'id_wgt_tau_vsJet_VVVLoose_2', 'id_wgt_tau_vsMu_Loose_2', 'id_wgt_tau_vsMu_Medium_2', 'id_wgt_tau_vsMu_Tight_2', 'id_wgt_tau_vsMu_VLoose_2', 'is_data', 'is_diboson', 'is_dyjets', 'is_embedding', 'is_ggh_htautau', 'is_ttbar', 'is_vbf_htautau', 'is_wjets', 'iso_1', 'iso_2', 'iso_wgt_mu_1', 'jeta_1', 'jeta_2', 'jphi_1', 'jphi_2', 'jpt_1', 'jpt_2', 'jtag_value_1', 'jtag_value_2', 'lumi', 'mTdileptonMET', 'mTdileptonMET_pf', 'm_vis', 'mass_1', 'mass_2', 'met', 'metSumEt', 'met_uncorrected', 'metcov00', 'metcov01', 'metcov10', 'metcov11', 'metphi', 'metphi_uncorrected', 'mjj', 'mt_1', 'mt_1_pf', 'mt_2', 'mt_2_pf', 'mt_tot', 'mt_tot_pf', 'nbtag', 'njets', 'nmuons', 'ntaus', 'pfmet', 'pfmet_uncorrected', 'pfmetphi', 'pfmetphi_uncorrected', 'phi_1', 'phi_2', 'pt_1', 'pt_2', 'pt_tt', 'pt_tt_pf', 'pt_ttjj', 'pt_ttjj_pf', 'pt_vis', 'puweight', 'pzetamissvis', 'pzetamissvis_pf', 'q_1', 'q_2', 'run', 'tau_gen_match_2', 'taujet_pt_2', 'trg_cross_mu20tau27', 'trg_cross_mu20tau27_hps', 'trg_single_mu24', 'trg_single_mu27', 'trg_single_tau180_2', 'trg_wgt_single_mu24', 'trg_wgt_single_mu24ormu27', 'trg_wgt_single_mu27']\n",
      "Sample *ZHToTauTau* not found in sample list, but found 1 matching samples: ['ZHToTauTau_M125_CP5_13TeV-powheg-pythia8_RunIISummer20UL18NanoAODv9-106X'], will use the first one\n",
      "globing for ZHToTauTau_M125_CP5_13TeV-powheg-pythia8_RunIISummer20UL18NanoAODv9-106X using /ceph/sbrommer/smhtt_ul/2022_09_v1/ntuples/2018/ZHToTauTau_M125_CP5_13TeV-powheg-pythia8_RunIISummer20UL18NanoAODv9-106X/mt/*\n",
      "['__PileUpDown', '__PileUpUp', '__btagUncCFerr1Down', '__btagUncCFerr1Up', '__btagUncCFerr2Down', '__btagUncCFerr2Up', '__btagUncHFDown', '__btagUncHFUp', '__btagUncHFstats1Down', '__btagUncHFstats1Up', '__btagUncHFstats2Down', '__btagUncHFstats2Up', '__btagUncLFDown', '__btagUncLFUp', '__btagUncLFstats1Down', '__btagUncLFstats1Up', '__btagUncLFstats2Down', '__btagUncLFstats2Up', '__jerUncDown', '__jerUncUp', '__jesUncAbsoluteDown', '__jesUncAbsoluteUp', '__jesUncAbsoluteYearDown', '__jesUncAbsoluteYearUp', '__jesUncBBEC1Down', '__jesUncBBEC1Up', '__jesUncBBEC1YearDown', '__jesUncBBEC1YearUp', '__jesUncEC2Down', '__jesUncEC2Up', '__jesUncEC2YearDown', '__jesUncEC2YearUp', '__jesUncFlavorQCDDown', '__jesUncFlavorQCDUp', '__jesUncHEMIssueDown', '__jesUncHEMIssueUp', '__jesUncHFDown', '__jesUncHFUp', '__jesUncHFYearDown', '__jesUncHFYearUp', '__jesUncRelativeBalDown', '__jesUncRelativeBalUp', '__jesUncRelativeSampleYearDown', '__jesUncRelativeSampleYearUp', '__jesUncTotalDown', '__jesUncTotalUp', '__metRecoilResolutionDown', '__metRecoilResolutionUp', '__metRecoilResponseDown', '__metRecoilResponseUp', '__metUnclusteredEnDown', '__metUnclusteredEnUp', '__singleMuonTriggerSFDown', '__singleMuonTriggerSFUp', '__tauEs1prong0pizeroDown', '__tauEs1prong0pizeroUp', '__tauEs1prong1pizeroDown', '__tauEs1prong1pizeroUp', '__tauEs3prong0pizeroDown', '__tauEs3prong0pizeroUp', '__tauEs3prong1pizeroDown', '__tauEs3prong1pizeroUp', '__vsEleBarrelDown', '__vsEleBarrelUp', '__vsEleEndcapDown', '__vsEleEndcapUp', '__vsJetTau1000toInfDown', '__vsJetTau1000toInfUp', '__vsJetTau30to35Down', '__vsJetTau30to35Up', '__vsJetTau35to40Down', '__vsJetTau35to40Up', '__vsJetTau40to500Down', '__vsJetTau40to500Up', '__vsJetTau500to1000Down', '__vsJetTau500to1000Up', '__vsMuWheel1Down', '__vsMuWheel1Up', '__vsMuWheel2Down', '__vsMuWheel2Up', '__vsMuWheel3Down', '__vsMuWheel3Up', '__vsMuWheel4Down', '__vsMuWheel4Up', '__vsMuWheel5Down', '__vsMuWheel5Up']\n"
     ]
    }
   ],
   "source": [
    "era = 2018\n",
    "sample = \"*ZHToTauTau*\"\n",
    "channel = \"mt\"\n",
    "tag = \"2022_09_v1\"\n",
    "basepath = f\"/ceph/sbrommer/smhtt_ul/{tag}/ntuples/{era}/\"\n",
    "# now glob for all the files in the basepath\n",
    "samples = [ x.replace(basepath, \"\") for x in  glob.glob(basepath + \"*\")]\n",
    "print(f\"found {len(samples)} samples in {basepath}\")\n",
    "variables = get_quantities_from_sample(basepath, samples, channel, sample)\n",
    "print(variables)\n",
    "shifts = get_shifts_from_sample(basepath, samples, channel, sample)\n",
    "print(shifts)"
   ]
  },
  {
   "cell_type": "code",
   "execution_count": 8,
   "metadata": {},
   "outputs": [
    {
     "name": "stdout",
     "output_type": "stream",
     "text": [
      "EMB#mt-Embedded-qqh#anti_iso_CMS_scale_t_emb_1prong_EraDown#mt_score;1\n",
      "EMB#mt-Embedded-ggh#anti_iso_CMS_scale_t_emb_1prong_EraDown#mt_score;1\n",
      "EMB#mt-Embedded-ztt#anti_iso_CMS_scale_t_emb_1prong_EraDown#mt_score;1\n",
      "EMB#mt-Embedded-ff#anti_iso_CMS_scale_t_emb_1prong_EraDown#mt_score;1\n",
      "EMB#mt-Embedded-tt#anti_iso_CMS_scale_t_emb_1prong_EraDown#mt_score;1\n",
      "EMB#mt-Embedded-misc#anti_iso_CMS_scale_t_emb_1prong_EraDown#mt_score;1\n",
      "EMB#mt-Embedded-xxh#anti_iso_CMS_scale_t_emb_1prong_EraDown#mt_score;1\n",
      "EMB#mt-Embedded-qqh#anti_iso_CMS_scale_t_emb_1prong_EraUp#mt_score;1\n",
      "EMB#mt-Embedded-ggh#anti_iso_CMS_scale_t_emb_1prong_EraUp#mt_score;1\n",
      "EMB#mt-Embedded-ztt#anti_iso_CMS_scale_t_emb_1prong_EraUp#mt_score;1\n",
      "EMB#mt-Embedded-ff#anti_iso_CMS_scale_t_emb_1prong_EraUp#mt_score;1\n",
      "EMB#mt-Embedded-tt#anti_iso_CMS_scale_t_emb_1prong_EraUp#mt_score;1\n",
      "EMB#mt-Embedded-misc#anti_iso_CMS_scale_t_emb_1prong_EraUp#mt_score;1\n",
      "EMB#mt-Embedded-xxh#anti_iso_CMS_scale_t_emb_1prong_EraUp#mt_score;1\n",
      "EMB#mt-Embedded-qqh#anti_iso_CMS_scale_t_emb_1prong1pizero_EraDown#mt_score;1\n",
      "EMB#mt-Embedded-ggh#anti_iso_CMS_scale_t_emb_1prong1pizero_EraDown#mt_score;1\n",
      "EMB#mt-Embedded-ztt#anti_iso_CMS_scale_t_emb_1prong1pizero_EraDown#mt_score;1\n",
      "EMB#mt-Embedded-ff#anti_iso_CMS_scale_t_emb_1prong1pizero_EraDown#mt_score;1\n",
      "EMB#mt-Embedded-tt#anti_iso_CMS_scale_t_emb_1prong1pizero_EraDown#mt_score;1\n",
      "EMB#mt-Embedded-misc#anti_iso_CMS_scale_t_emb_1prong1pizero_EraDown#mt_score;1\n",
      "EMB#mt-Embedded-xxh#anti_iso_CMS_scale_t_emb_1prong1pizero_EraDown#mt_score;1\n",
      "EMB#mt-Embedded-qqh#anti_iso_CMS_scale_t_emb_1prong1pizero_EraUp#mt_score;1\n",
      "EMB#mt-Embedded-ggh#anti_iso_CMS_scale_t_emb_1prong1pizero_EraUp#mt_score;1\n",
      "EMB#mt-Embedded-ztt#anti_iso_CMS_scale_t_emb_1prong1pizero_EraUp#mt_score;1\n",
      "EMB#mt-Embedded-ff#anti_iso_CMS_scale_t_emb_1prong1pizero_EraUp#mt_score;1\n",
      "EMB#mt-Embedded-tt#anti_iso_CMS_scale_t_emb_1prong1pizero_EraUp#mt_score;1\n",
      "EMB#mt-Embedded-misc#anti_iso_CMS_scale_t_emb_1prong1pizero_EraUp#mt_score;1\n",
      "EMB#mt-Embedded-xxh#anti_iso_CMS_scale_t_emb_1prong1pizero_EraUp#mt_score;1\n",
      "EMB#mt-Embedded-qqh#anti_iso_CMS_scale_t_emb_3prong_EraDown#mt_score;1\n",
      "EMB#mt-Embedded-ggh#anti_iso_CMS_scale_t_emb_3prong_EraDown#mt_score;1\n",
      "EMB#mt-Embedded-ztt#anti_iso_CMS_scale_t_emb_3prong_EraDown#mt_score;1\n",
      "EMB#mt-Embedded-ff#anti_iso_CMS_scale_t_emb_3prong_EraDown#mt_score;1\n",
      "EMB#mt-Embedded-tt#anti_iso_CMS_scale_t_emb_3prong_EraDown#mt_score;1\n",
      "EMB#mt-Embedded-misc#anti_iso_CMS_scale_t_emb_3prong_EraDown#mt_score;1\n",
      "EMB#mt-Embedded-xxh#anti_iso_CMS_scale_t_emb_3prong_EraDown#mt_score;1\n",
      "EMB#mt-Embedded-qqh#anti_iso_CMS_scale_t_emb_3prong_EraUp#mt_score;1\n",
      "EMB#mt-Embedded-ggh#anti_iso_CMS_scale_t_emb_3prong_EraUp#mt_score;1\n",
      "EMB#mt-Embedded-ztt#anti_iso_CMS_scale_t_emb_3prong_EraUp#mt_score;1\n",
      "EMB#mt-Embedded-ff#anti_iso_CMS_scale_t_emb_3prong_EraUp#mt_score;1\n",
      "EMB#mt-Embedded-tt#anti_iso_CMS_scale_t_emb_3prong_EraUp#mt_score;1\n",
      "EMB#mt-Embedded-misc#anti_iso_CMS_scale_t_emb_3prong_EraUp#mt_score;1\n",
      "EMB#mt-Embedded-xxh#anti_iso_CMS_scale_t_emb_3prong_EraUp#mt_score;1\n",
      "EMB#mt-Embedded-qqh#anti_iso_CMS_scale_t_emb_3prong1pizero_EraDown#mt_score;1\n",
      "EMB#mt-Embedded-ggh#anti_iso_CMS_scale_t_emb_3prong1pizero_EraDown#mt_score;1\n",
      "EMB#mt-Embedded-ztt#anti_iso_CMS_scale_t_emb_3prong1pizero_EraDown#mt_score;1\n",
      "EMB#mt-Embedded-ff#anti_iso_CMS_scale_t_emb_3prong1pizero_EraDown#mt_score;1\n",
      "EMB#mt-Embedded-tt#anti_iso_CMS_scale_t_emb_3prong1pizero_EraDown#mt_score;1\n",
      "EMB#mt-Embedded-misc#anti_iso_CMS_scale_t_emb_3prong1pizero_EraDown#mt_score;1\n",
      "EMB#mt-Embedded-xxh#anti_iso_CMS_scale_t_emb_3prong1pizero_EraDown#mt_score;1\n",
      "EMB#mt-Embedded-qqh#anti_iso_CMS_scale_t_emb_3prong1pizero_EraUp#mt_score;1\n",
      "EMB#mt-Embedded-ggh#anti_iso_CMS_scale_t_emb_3prong1pizero_EraUp#mt_score;1\n",
      "EMB#mt-Embedded-ztt#anti_iso_CMS_scale_t_emb_3prong1pizero_EraUp#mt_score;1\n",
      "EMB#mt-Embedded-ff#anti_iso_CMS_scale_t_emb_3prong1pizero_EraUp#mt_score;1\n",
      "EMB#mt-Embedded-tt#anti_iso_CMS_scale_t_emb_3prong1pizero_EraUp#mt_score;1\n",
      "EMB#mt-Embedded-misc#anti_iso_CMS_scale_t_emb_3prong1pizero_EraUp#mt_score;1\n",
      "EMB#mt-Embedded-xxh#anti_iso_CMS_scale_t_emb_3prong1pizero_EraUp#mt_score;1\n"
     ]
    }
   ],
   "source": [
    "def find_string_in_shapes(shapefile, search_string):\n",
    "    uproot_file = uproot.open(shapefile)\n",
    "    available_hists = uproot_file.keys()\n",
    "    print(\"\\n\".join(s for s in available_hists if search_string in s))\n",
    "find_string_in_shapes(f\"/work/sbrommer/smhtt_ul/analysis/smhtt_ul/output/2018-mt-2022_09_v1-debugging_training_v11_3/tauid_shapes-2018-mt-2022_09_v1-debugging_training_v11_3.root\",\"anti_iso_CMS_scale_t_emb\")"
   ]
  },
  {
   "cell_type": "code",
   "execution_count": null,
   "metadata": {},
   "outputs": [],
   "source": []
  }
 ],
 "metadata": {
  "kernelspec": {
   "display_name": "Python 3.9.5 ('base')",
   "language": "python",
   "name": "python3"
  },
  "language_info": {
   "codemirror_mode": {
    "name": "ipython",
    "version": 3
   },
   "file_extension": ".py",
   "mimetype": "text/x-python",
   "name": "python",
   "nbconvert_exporter": "python",
   "pygments_lexer": "ipython3",
   "version": "3.9.5"
  },
  "orig_nbformat": 4,
  "vscode": {
   "interpreter": {
    "hash": "4ca03565cb001f9cc386465f5e54fb9f7fe5a3d5ae5e1fc4757005751a17d9de"
   }
  }
 },
 "nbformat": 4,
 "nbformat_minor": 2
}
