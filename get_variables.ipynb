{
 "cells": [
  {
   "cell_type": "code",
   "execution_count": null,
   "metadata": {},
   "outputs": [
    {
     "ename": "",
     "evalue": "",
     "output_type": "error",
     "traceback": [
      "\u001b[1;31mFailed to start the Kernel. \n",
      "The 'python395jvsc74a57bd04ca03565cb001f9cc386465f5e54fb9f7fe5a3d5ae5e1fc4757005751a17d9de' kernel is not available. Please pick another suitable kernel instead, or install that kernel. \n",
      "View Jupyter <a href='command:jupyter.viewOutput'>log</a> for further details."
     ]
    }
   ],
   "source": [
    "import uproot\n",
    "import glob\n",
    "import os\n",
    "import fnmatch"
   ]
  },
  {
   "cell_type": "code",
   "execution_count": null,
   "metadata": {},
   "outputs": [],
   "source": [
    "def get_quantities_from_sample(basepath, samples, channel, sample):\n",
    "    if sample not in samples:\n",
    "        # try to find a matching sample with fnmatch\n",
    "        matching = fnmatch.filter(samples, sample)\n",
    "        if len(matching) == 0:\n",
    "            raise ValueError(\"Sample {} not found in sample list\".format(sample))\n",
    "        else:\n",
    "            print(\"Sample {} not found in sample list, but found {} matching samples: {}, will use the first one\".format(sample, len(matching), matching))\n",
    "            sample = matching[0]\n",
    "    # now glob for the files\n",
    "    print(f\"globing for {sample} using {os.path.join(basepath,sample,channel,'*')}\")\n",
    "    files = glob.glob(os.path.join(basepath,sample,channel,\"*\"))\n",
    "    # now open the first file and get the quantities tree\n",
    "    uproot_file = uproot.open(files[0])\n",
    "    quantities_tree = uproot_file[\"quantities\"]\n",
    "    # now get the quantities\n",
    "    quantities = [x.name for x in quantities_tree.branches]\n",
    "    # now return the quantities\n",
    "    return quantities\n",
    "\n",
    "def get_shifts_from_sample(basepath, samples, channel, sample):\n",
    "    if sample not in samples:\n",
    "        # try to find a matching sample with fnmatch\n",
    "        matching = fnmatch.filter(samples, sample)\n",
    "        if len(matching) == 0:\n",
    "            raise ValueError(\"Sample {} not found in sample list\".format(sample))\n",
    "        else:\n",
    "            print(\"Sample {} not found in sample list, but found {} matching samples: {}, will use the first one\".format(sample, len(matching), matching))\n",
    "            sample = matching[0]\n",
    "    # now glob for the files\n",
    "    print(f\"globing for {sample} using {os.path.join(basepath,sample,channel,'*')}\")\n",
    "    files = glob.glob(os.path.join(basepath,sample,channel,\"*\"))\n",
    "    # now open the first file and get the shifts tree\n",
    "    uproot_file = uproot.open(files[0])\n",
    "    shifts_tree = uproot_file[\"variations\"]\n",
    "    # now get the shifts\n",
    "    shifts = [x.name for x in shifts_tree.branches]\n",
    "    # now return the shifts\n",
    "    return shifts"
   ]
  },
  {
   "cell_type": "code",
   "execution_count": null,
   "metadata": {},
   "outputs": [],
   "source": [
    "era = 2018\n",
    "channel = \"tt\"\n",
    "tag = \"2022_06_with_genmatch_v4\"\n",
    "basepath = f\"/storage/gridka-nrg/sbrommer/CROWN/ntuples/{tag}/CROWNRun/{era}/\"\n",
    "# now glob for all the files in the basepath\n",
    "samples = [ x.replace(basepath, \"\") for x in  glob.glob(basepath + \"*\")]\n",
    "mt_variables = get_quantities_from_sample(basepath, samples, channel, \"TauEmbedding-MuTauFinalState*\")\n",
    "print(mt_variables)\n",
    "mt_shifts = get_shifts_from_sample(basepath, samples, channel, \"DYJets*\")\n",
    "print(mt_shifts)"
   ]
  },
  {
   "cell_type": "code",
   "execution_count": null,
   "metadata": {},
   "outputs": [],
   "source": []
  }
 ],
 "metadata": {
  "kernelspec": {
   "display_name": "Python 3.9.5 ('base')",
   "language": "python",
   "name": "python3"
  },
  "language_info": {
   "codemirror_mode": {
    "name": "ipython",
    "version": 3
   },
   "file_extension": ".py",
   "mimetype": "text/x-python",
   "name": "python",
   "nbconvert_exporter": "python",
   "pygments_lexer": "ipython3",
   "version": "3.9.5"
  },
  "orig_nbformat": 4,
  "vscode": {
   "interpreter": {
    "hash": "4ca03565cb001f9cc386465f5e54fb9f7fe5a3d5ae5e1fc4757005751a17d9de"
   }
  }
 },
 "nbformat": 4,
 "nbformat_minor": 2
}
